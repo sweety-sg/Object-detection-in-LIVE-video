{
 "cells": [
  {
   "cell_type": "code",
   "execution_count": 1,
   "id": "23925142",
   "metadata": {},
   "outputs": [
    {
     "name": "stdout",
     "output_type": "stream",
     "text": [
      "2 encoding images found.\n",
      "Encoding images loaded\n"
     ]
    }
   ],
   "source": [
    "import cv2\n",
    "import os\n",
    "import glob\n",
    "import numpy as np\n",
    "import face_recognition\n",
    "\n",
    "\n",
    "known_face_encodings = []\n",
    "known_face_names = []\n",
    "\n",
    "frame_resizing = 0.25\n",
    "\n",
    "def load_encoding_images(images_path):\n",
    "       \n",
    "    images_path = glob.glob(os.path.join(images_path, \"*.*\"))\n",
    "\n",
    "    print(\"{} encoding images found.\".format(len(images_path)))\n",
    "\n",
    "        \n",
    "    for img_path in images_path:\n",
    "        img = cv2.imread(img_path)\n",
    "        rgb_img = cv2.cvtColor(img, cv2.COLOR_BGR2RGB)\n",
    "\n",
    "           \n",
    "        basename = os.path.basename(img_path)\n",
    "        (filename, ext) = os.path.splitext(basename)\n",
    "           \n",
    "        img_encoding = face_recognition.face_encodings(rgb_img)[0]\n",
    "\n",
    "            \n",
    "        known_face_encodings.append(img_encoding)\n",
    "        known_face_names.append(filename)\n",
    "    print(\"Encoding images loaded\")\n",
    "\n",
    "def detect_known_faces(frame):\n",
    "    small_frame = cv2.resize(frame, (0, 0), fx=frame_resizing, fy=frame_resizing)\n",
    "    rgb_small_frame = cv2.cvtColor(small_frame, cv2.COLOR_BGR2RGB)\n",
    "    face_locations = face_recognition.face_locations(rgb_small_frame)\n",
    "    face_encodings = face_recognition.face_encodings(rgb_small_frame, face_locations)\n",
    "\n",
    "    face_names = []\n",
    "    for face_encoding in face_encodings:\n",
    "        matches = face_recognition.compare_faces(known_face_encodings, face_encoding)\n",
    "        name = \"Unknown\"\n",
    "\n",
    "        face_distances = face_recognition.face_distance(known_face_encodings, face_encoding)\n",
    "        best_match_index = np.argmin(face_distances)\n",
    "        if matches[best_match_index]:\n",
    "            name = known_face_names[best_match_index]\n",
    "        face_names.append(name)\n",
    "\n",
    "        face_locations = np.array(face_locations)\n",
    "        face_locations = face_locations / frame_resizing\n",
    "        return face_locations.astype(int), face_names\n",
    "\n",
    "load_encoding_images(\"faces/\")\n",
    "\n",
    "cap = cv2.VideoCapture(0)\n",
    "\n",
    "while True:\n",
    "    ret, frame = cap.read()\n",
    "\n",
    "    # Detect Faces\n",
    "    try:\n",
    "        face_locations, face_names = detect_known_faces(frame)\n",
    "        for face_loc, name in zip(face_locations, face_names):\n",
    "            y1, x2, y2, x1 = face_loc[0], face_loc[1], face_loc[2], face_loc[3]\n",
    "\n",
    "            cv2.putText(frame, name,(x1, y1 - 10), cv2.FONT_HERSHEY_DUPLEX, 1, (0, 0, 200), 2)\n",
    "            cv2.rectangle(frame, (x1, y1), (x2, y2), (0, 0, 200), 4)\n",
    "    except:\n",
    "        pass\n",
    "\n",
    "    cv2.imshow(\"Frame\", frame)\n",
    "\n",
    "    key = cv2.waitKey(1)\n",
    "    if key == 27:\n",
    "        break\n",
    "\n",
    "cap.release()\n",
    "cv2.destroyAllWindows()"
   ]
  },
  {
   "cell_type": "code",
   "execution_count": null,
   "id": "e7d458ea",
   "metadata": {},
   "outputs": [],
   "source": []
  }
 ],
 "metadata": {
  "kernelspec": {
   "display_name": "Python 3.9.6 64-bit",
   "language": "python",
   "name": "python3"
  },
  "language_info": {
   "codemirror_mode": {
    "name": "ipython",
    "version": 3
   },
   "file_extension": ".py",
   "mimetype": "text/x-python",
   "name": "python",
   "nbconvert_exporter": "python",
   "pygments_lexer": "ipython3",
   "version": "3.9.6"
  },
  "vscode": {
   "interpreter": {
    "hash": "aee8b7b246df8f9039afb4144a1f6fd8d2ca17a180786b69acc140d282b71a49"
   }
  }
 },
 "nbformat": 4,
 "nbformat_minor": 5
}
