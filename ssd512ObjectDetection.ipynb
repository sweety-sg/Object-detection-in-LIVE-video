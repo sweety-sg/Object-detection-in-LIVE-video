{
 "cells": [
  {
   "cell_type": "code",
   "execution_count": 6,
   "metadata": {},
   "outputs": [
    {
     "name": "stderr",
     "output_type": "stream",
     "text": [
      "[libprotobuf ERROR /Users/runner/work/opencv-python/opencv-python/opencv/3rdparty/protobuf/src/google/protobuf/wire_format_lite.cc:581] String field 'opencv_tensorflow.FunctionDef.Node.ret' contains invalid UTF-8 data when parsing a protocol buffer. Use the 'bytes' type if you intend to send raw bytes. \n"
     ]
    },
    {
     "ename": "error",
     "evalue": "OpenCV(4.7.0) /Users/runner/work/opencv-python/opencv-python/opencv/modules/dnn/src/tensorflow/tf_io.cpp:42: error: (-2:Unspecified error) FAILED: ReadProtoFromBinaryFile(param_file, param). Failed to parse GraphDef file: SSD/faster_rcnn_resnet50_v1_640x640_coco17_tpu-8/saved_model/saved_model.pb in function 'ReadTFNetParamsFromBinaryFileOrDie'\n",
     "output_type": "error",
     "traceback": [
      "\u001b[0;31m---------------------------------------------------------------------------\u001b[0m",
      "\u001b[0;31merror\u001b[0m                                     Traceback (most recent call last)",
      "Cell \u001b[0;32mIn[6], line 6\u001b[0m\n\u001b[1;32m      4\u001b[0m \u001b[39m# Load the pre-trained model\u001b[39;00m\n\u001b[1;32m      5\u001b[0m model_path \u001b[39m=\u001b[39m \u001b[39m\"\u001b[39m\u001b[39mSSD/faster_rcnn_resnet50_v1_640x640_coco17_tpu-8/saved_model/saved_model.pb\u001b[39m\u001b[39m\"\u001b[39m\n\u001b[0;32m----> 6\u001b[0m net \u001b[39m=\u001b[39m cv2\u001b[39m.\u001b[39;49mdnn\u001b[39m.\u001b[39;49mreadNetFromTensorflow(model_path)\n\u001b[1;32m      7\u001b[0m \u001b[39m# net = tf.saved_model.load(model_path)\u001b[39;00m\n\u001b[1;32m      8\u001b[0m \n\u001b[1;32m      9\u001b[0m \u001b[39m# Load an image for object detection\u001b[39;00m\n\u001b[1;32m     10\u001b[0m image_path \u001b[39m=\u001b[39m \u001b[39m'\u001b[39m\u001b[39mimages/sofa.jpg\u001b[39m\u001b[39m'\u001b[39m\n",
      "\u001b[0;31merror\u001b[0m: OpenCV(4.7.0) /Users/runner/work/opencv-python/opencv-python/opencv/modules/dnn/src/tensorflow/tf_io.cpp:42: error: (-2:Unspecified error) FAILED: ReadProtoFromBinaryFile(param_file, param). Failed to parse GraphDef file: SSD/faster_rcnn_resnet50_v1_640x640_coco17_tpu-8/saved_model/saved_model.pb in function 'ReadTFNetParamsFromBinaryFileOrDie'\n"
     ]
    }
   ],
   "source": [
    "import cv2\n",
    "import tensorflow as tf\n",
    "\n",
    "# Load the pre-trained model\n",
    "model_path = \"SSD/faster_rcnn_resnet50_v1_640x640_coco17_tpu-8/saved_model/saved_model.pb\"\n",
    "net = cv2.dnn.readNetFromTensorflow(model_path)\n",
    "# net = tf.saved_model.load(model_path)\n",
    "\n",
    "# Load an image for object detection\n",
    "image_path = 'images/sofa.jpg'\n",
    "image = cv2.imread(image_path)\n",
    "\n",
    "# Perform object detection using the loaded model\n",
    "blob = cv2.dnn.blobFromImage(image, size=(512, 512), swapRB=True)\n",
    "net.setInput(blob)\n",
    "detections = net.forward()\n",
    "\n",
    "# Display the results\n",
    "for i in range(detections.shape[2]):\n",
    "    confidence = detections[0, 0, i, 2]\n",
    "    if confidence > 0.5:\n",
    "        x1 = int(detections[0, 0, i, 3] * image.shape[1])\n",
    "        y1 = int(detections[0, 0, i, 4] * image.shape[0])\n",
    "        x2 = int(detections[0, 0, i, 5] * image.shape[1])\n",
    "        y2 = int(detections[0, 0, i, 6] * image.shape[0])\n",
    "        cv2.rectangle(image, (x1, y1), (x2, y2), (0, 255, 0), 2)\n",
    "cv2.imshow(\"Object Detection\", image)\n",
    "cv2.waitKey(0)\n",
    "cv2.destroyAllWindows()\n"
   ]
  }
 ],
 "metadata": {
  "kernelspec": {
   "display_name": "Python 3.9.6 64-bit",
   "language": "python",
   "name": "python3"
  },
  "language_info": {
   "codemirror_mode": {
    "name": "ipython",
    "version": 3
   },
   "file_extension": ".py",
   "mimetype": "text/x-python",
   "name": "python",
   "nbconvert_exporter": "python",
   "pygments_lexer": "ipython3",
   "version": "3.9.6"
  },
  "orig_nbformat": 4,
  "vscode": {
   "interpreter": {
    "hash": "aee8b7b246df8f9039afb4144a1f6fd8d2ca17a180786b69acc140d282b71a49"
   }
  }
 },
 "nbformat": 4,
 "nbformat_minor": 2
}
