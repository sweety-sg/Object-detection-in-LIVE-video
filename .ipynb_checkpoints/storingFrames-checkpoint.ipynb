{
 "cells": [
  {
   "cell_type": "code",
   "execution_count": null,
   "id": "1638f3e4",
   "metadata": {},
   "outputs": [],
   "source": [
    "import cv2\n",
    "import numpy as np\n",
    "import time\n",
    "\n",
    "\n",
    "cap = cv2.VideoCapture(\"video/walking.mp4\")\n",
    "i = 0\n",
    "\n",
    "while (cap.isOpened()): \n",
    "\n",
    "    ret, frame = cap.read()\n",
    "    frame = cv2.resize(frame, (540, 380), fx = 0, fy = 0, interpolation = cv2.INTER_CUBIC)\n",
    "    \n",
    "   \n",
    "    cv2.imwrite(\"frames/frame%d.jpg\" % i, frame)\n",
    "    cv2.imshow('Frame', frame)\n",
    "    i+=1\n",
    "    \n",
    "    # cv2.imshow('Thresh', Thresh)\n",
    "    if cv2.waitKey(25) & 0xFF == ord('q'):\n",
    "        break\n",
    "\n",
    "cap.release()\n",
    "cv2.destroyAllWindows()"
   ]
  }
 ],
 "metadata": {
  "kernelspec": {
   "display_name": "Python 3 (ipykernel)",
   "language": "python",
   "name": "python3"
  },
  "language_info": {
   "codemirror_mode": {
    "name": "ipython",
    "version": 3
   },
   "file_extension": ".py",
   "mimetype": "text/x-python",
   "name": "python",
   "nbconvert_exporter": "python",
   "pygments_lexer": "ipython3",
   "version": "3.9.13"
  }
 },
 "nbformat": 4,
 "nbformat_minor": 5
}
