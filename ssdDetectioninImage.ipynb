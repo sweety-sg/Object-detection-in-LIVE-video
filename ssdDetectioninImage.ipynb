{
 "cells": [
  {
   "cell_type": "code",
   "execution_count": 3,
   "metadata": {},
   "outputs": [],
   "source": [
    "# OBJECT DETECTOR\n",
    "\n",
    "import cv2  # OpenCV\n",
    "import numpy as np\n",
    "\n",
    "default_confidence = 0.5\n",
    "default_threshold= 0.6\n",
    "configfile = \"SSD/ssd_mobilenet_v3_large_coco_2020_01_14.pbtxt\"  # Config File for Trained MobileNet SSD Model\n",
    "frozen_model = \"SSD/frozen_inference_graph.pb\"  # Weighhts - derived from tensor flow\n",
    "labelsPath = \"SSD/labels.txt\"\n",
    "model = cv2.dnn_DetectionModel(frozen_model, configfile)  # Model used to Detect Objects\n",
    "\n",
    "LABELS = open(labelsPath).read().strip().split(\"\\n\")\n",
    "\n",
    "# generate different colors to represent each label\n",
    "COLORS = np.random.uniform(0, 255, size=(len(LABELS), 3))\n",
    "def draw_bounding_box(image, classID, confidence, x, y, w, h):\n",
    "    color = COLORS[classID]\n",
    "    cv2.rectangle(image, (x, y), (x+w, y+h), color, 2)\n",
    "    text = \"{}: {:.4f}\".format(LABELS[classID], confidence)\n",
    "    cv2.putText(image, text, (x, y - 5), cv2.FONT_HERSHEY_SIMPLEX,\n",
    "        0.5, color, 2)\n",
    "\n",
    "# Customizing input format provided to our Model\n",
    "model.setInputSize(320, 320)\n",
    "model.setInputScale(1.0 / 127.5)\n",
    "model.setInputMean((127.5, 127.5, 127.5))\n",
    "model.setInputSwapRB(True)\n",
    "\n",
    "boxes = []\n",
    "confidences = []\n",
    "classIDs = []\n",
    "image_path = 'images/clock.jpg'\n",
    "frame = cv2.imread(image_path)\n",
    "\n",
    "ClassIndex, Confidence, box = model.detect(frame, default_threshold)  # Class Index values start from 1 \n",
    "        \n",
    "for classID, confidence, Boxes in zip(ClassIndex.flatten(), Confidence.flatten(), box):\n",
    "    if classID >=1 and classID <=80:\n",
    "        boxes.append([Boxes[0], Boxes[1], Boxes[2] - Boxes[0], Boxes[3]- Boxes[1]])\n",
    "        confidences.append(float(confidence))\n",
    "        classIDs.append(classID-1)\n",
    "        # cv2.rectangle(frame, Boxes, (255, 0, 0), 2)  # Boxes overlayed around the Detected object\n",
    "        draw_bounding_box(frame, classID-1-5, confidence, Boxes[0], Boxes[1], Boxes[2], Boxes[3])\n",
    "        # string = str(LABELS[classID-1])  # the Label Displayed in the Image\n",
    "        # cv2.putText(frame, string, (Boxes[0]+10, Boxes[1]+40), font, fontScale=font_scale, color=(0, 255, 0), thickness=3)\n",
    "idices = cv2.dnn.NMSBoxes(boxes, confidences, default_confidence,\n",
    "default_threshold)\n",
    "\n",
    "# if len(idices) > 0:\n",
    "#     for i in idices.flatten():\n",
    "#         (x, y) = (boxes[i][0], boxes[i][1])\n",
    "#         (w, h) = (boxes[i][2], boxes[i][3])\n",
    "\n",
    "#         draw_bounding_box(frame, classIDs[i], confidences[i], x, y, w, h)\n",
    "\n",
    "cv2.imshow(\"OBJECT DETECTION\", frame)\n",
    "cv2.waitKey(0)\n",
    "\n",
    "\n",
    "cv2.destroyAllWindows()"
   ]
  }
 ],
 "metadata": {
  "kernelspec": {
   "display_name": "Python 3.9.6 64-bit",
   "language": "python",
   "name": "python3"
  },
  "language_info": {
   "codemirror_mode": {
    "name": "ipython",
    "version": 3
   },
   "file_extension": ".py",
   "mimetype": "text/x-python",
   "name": "python",
   "nbconvert_exporter": "python",
   "pygments_lexer": "ipython3",
   "version": "3.9.6"
  },
  "orig_nbformat": 4,
  "vscode": {
   "interpreter": {
    "hash": "aee8b7b246df8f9039afb4144a1f6fd8d2ca17a180786b69acc140d282b71a49"
   }
  }
 },
 "nbformat": 4,
 "nbformat_minor": 2
}
