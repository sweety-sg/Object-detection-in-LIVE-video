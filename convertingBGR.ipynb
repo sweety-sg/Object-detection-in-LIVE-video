{
 "cells": [
  {
   "cell_type": "code",
   "execution_count": null,
   "id": "c3f2259c",
   "metadata": {},
   "outputs": [],
   "source": [
    "import cv2\n",
    "import numpy as np\n",
    "\n",
    "# reading an image \n",
    "img = cv2.imread(\"images/flower.jpg\")\n",
    "print(type(img))\n",
    "print(img.shape)\n",
    "\n",
    "# converting they scale\n",
    "img_gray = cv2.cvtColor(img, cv2.COLOR_BGR2GRAY)\n",
    "img_blue = img[:,:,0] # BGR PUTTING B TO 0\n",
    "\n",
    "# stacking the images\n",
    "new_image = np.hstack((img_gray, img_blue))\n",
    "\n",
    "\n",
    "# working with opencv events\n",
    "cv2.imshow(\"window\", new_image)\n",
    "cv2.waitKey(0)"
   ]
  }
 ],
 "metadata": {
  "kernelspec": {
   "display_name": "Python 3 (ipykernel)",
   "language": "python",
   "name": "python3"
  },
  "language_info": {
   "codemirror_mode": {
    "name": "ipython",
    "version": 3
   },
   "file_extension": ".py",
   "mimetype": "text/x-python",
   "name": "python",
   "nbconvert_exporter": "python",
   "pygments_lexer": "ipython3",
   "version": "3.9.13"
  }
 },
 "nbformat": 4,
 "nbformat_minor": 5
}
