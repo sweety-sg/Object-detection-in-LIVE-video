{
 "cells": [
  {
   "cell_type": "code",
   "execution_count": null,
   "id": "2cafb943",
   "metadata": {},
   "outputs": [],
   "source": [
    "import cv2\n",
    "import numpy as np\n",
    "\n",
    "# drawing shapes and text on images\n",
    "img = np.zeros((256,256,3))\n",
    "cv2.rectangle(img, pt1=(20,20), pt2=(150,150), color=(0,255,180), thickness=2)\n",
    "cv2.circle(img, center=(100,100), radius=20, color=(255,100,100), thickness=10)\n",
    "cv2.line(img, pt1=(30,30), pt2=(50,50), color=(0,100,180), thickness=2)\n",
    "cv2.putText(img, org=(200,200), fontScale=2,color=(0,230,60), thickness=2, lineType=cv2.LINE_8, text=\"hii there\", fontFace=cv2.FONT_ITALIC)\n",
    "\n",
    "cv2.imshow(\"window\", img)\n",
    "cv2.waitKey(0)"
   ]
  }
 ],
 "metadata": {
  "kernelspec": {
   "display_name": "Python 3 (ipykernel)",
   "language": "python",
   "name": "python3"
  },
  "language_info": {
   "codemirror_mode": {
    "name": "ipython",
    "version": 3
   },
   "file_extension": ".py",
   "mimetype": "text/x-python",
   "name": "python",
   "nbconvert_exporter": "python",
   "pygments_lexer": "ipython3",
   "version": "3.9.13"
  }
 },
 "nbformat": 4,
 "nbformat_minor": 5
}
