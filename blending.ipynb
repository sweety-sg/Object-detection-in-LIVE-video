{
 "cells": [
  {
   "cell_type": "code",
   "execution_count": 8,
   "id": "b7d2edfd",
   "metadata": {},
   "outputs": [
    {
     "data": {
      "text/plain": [
       "-1"
      ]
     },
     "execution_count": 8,
     "metadata": {},
     "output_type": "execute_result"
    }
   ],
   "source": [
    "import cv2\n",
    "import numpy as np\n",
    "\n",
    "# blending one or two images\n",
    "flower = cv2.imread(\"images/flower.jpg\")\n",
    "flower = cv2.resize(flower, (256,256))\n",
    "stones = cv2.imread(\"images/balance.jpg\")\n",
    "stones = cv2.resize(stones, (256,256))\n",
    "img_add = cv2.add(flower, stones)\n",
    "img_weighted = cv2.addWeighted(flower, 0.3, stones, 0.7, 0)\n",
    "\n",
    "cv2.imshow(\"window\", img_weighted)\n",
    "cv2.waitKey(0)"
   ]
  },
  {
   "cell_type": "code",
   "execution_count": null,
   "id": "35603135",
   "metadata": {},
   "outputs": [],
   "source": []
  }
 ],
 "metadata": {
  "kernelspec": {
   "display_name": "Python 3 (ipykernel)",
   "language": "python",
   "name": "python3"
  },
  "language_info": {
   "codemirror_mode": {
    "name": "ipython",
    "version": 3
   },
   "file_extension": ".py",
   "mimetype": "text/x-python",
   "name": "python",
   "nbconvert_exporter": "python",
   "pygments_lexer": "ipython3",
   "version": "3.9.13"
  }
 },
 "nbformat": 4,
 "nbformat_minor": 5
}
